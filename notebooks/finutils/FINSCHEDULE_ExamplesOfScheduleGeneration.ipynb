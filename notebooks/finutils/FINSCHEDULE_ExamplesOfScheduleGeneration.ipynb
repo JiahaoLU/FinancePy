{
 "cells": [
  {
   "cell_type": "markdown",
   "metadata": {},
   "source": [
    "# Schedule Generation"
   ]
  },
  {
   "cell_type": "markdown",
   "metadata": {},
   "source": [
    "Examples of how to generate schedules"
   ]
  },
  {
   "cell_type": "code",
   "execution_count": 1,
   "metadata": {},
   "outputs": [
    {
     "output_type": "stream",
     "name": "stdout",
     "text": [
      "####################################################################\n# FINANCEPY BETA Version 0.193 - This build:  09 Mar 2021 at 17:51 #\n#      This software is distributed FREE & WITHOUT ANY WARRANTY    #\n# For info and disclaimer - https://github.com/domokane/FinancePy  #\n#      Send any bug reports or comments to quant@financepy.com     #\n####################################################################\n\n"
     ]
    }
   ],
   "source": [
    "from financepy.utils import *"
   ]
  },
  {
   "cell_type": "code",
   "execution_count": 16,
   "metadata": {},
   "outputs": [],
   "source": [
    "start_date = Date(4, 8, 2016)\n",
    "end_date = Date(1, 5, 2022)"
   ]
  },
  {
   "cell_type": "code",
   "execution_count": 17,
   "metadata": {},
   "outputs": [],
   "source": [
    "freq_type = FrequencyTypes.ANNUAL\n",
    "calendar_type = CalendarTypes.WEEKEND\n",
    "bus_day_adjust_type = BusDayAdjustTypes.FOLLOWING\n",
    "date_gen_rule_type = DateGenRuleTypes.BACKWARD\n",
    "schedule = Schedule(start_date, end_date, freq_type, calendar_type, \n",
    "                       bus_day_adjust_type, date_gen_rule_type)"
   ]
  },
  {
   "cell_type": "code",
   "execution_count": 18,
   "metadata": {},
   "outputs": [
    {
     "output_type": "stream",
     "name": "stdout",
     "text": [
      "OBJECT TYPE: Schedule\nEFFECTIVE DATE: 04-AUG-2016\nEND DATE: 02-MAY-2022\nFREQUENCY: FrequencyTypes.ANNUAL\nCALENDAR: CalendarTypes.WEEKEND\nBUSDAYRULE: BusDayAdjustTypes.FOLLOWING\nDATEGENRULE: DateGenRuleTypes.BACKWARD\nADJUST TERM DATE: True\nEND OF MONTH: False\n"
     ]
    }
   ],
   "source": [
    "print(schedule)"
   ]
  },
  {
   "cell_type": "code",
   "execution_count": 19,
   "metadata": {},
   "outputs": [
    {
     "output_type": "stream",
     "name": "stdout",
     "text": [
      "[04-AUG-2016, 01-MAY-2017, 01-MAY-2018, 01-MAY-2019, 01-MAY-2020, 03-MAY-2021, 02-MAY-2022]\n"
     ]
    }
   ],
   "source": [
    "print(schedule.schedule_dates())"
   ]
  },
  {
   "cell_type": "markdown",
   "metadata": {},
   "source": [
    "The first date is the previous coupon date. The next date is the next coupon date after today."
   ]
  },
  {
   "cell_type": "code",
   "execution_count": 20,
   "metadata": {},
   "outputs": [],
   "source": [
    "freq_type = FrequencyTypes.SEMI_ANNUAL\n",
    "calendar_type = CalendarTypes.WEEKEND\n",
    "bus_day_adjust_type = BusDayAdjustTypes.FOLLOWING\n",
    "date_gen_rule_type = DateGenRuleTypes.BACKWARD\n",
    "schedule = Schedule(start_date, end_date, freq_type, calendar_type, bus_day_adjust_type, date_gen_rule_type)"
   ]
  },
  {
   "cell_type": "code",
   "execution_count": 21,
   "metadata": {},
   "outputs": [
    {
     "output_type": "stream",
     "name": "stdout",
     "text": [
      "[04-AUG-2016, 01-NOV-2016, 01-MAY-2017, 01-NOV-2017, 01-MAY-2018, 01-NOV-2018, 01-MAY-2019, 01-NOV-2019, 01-MAY-2020, 02-NOV-2020, 03-MAY-2021, 01-NOV-2021, 02-MAY-2022]\n"
     ]
    }
   ],
   "source": [
    "print(schedule.schedule_dates())"
   ]
  },
  {
   "cell_type": "code",
   "execution_count": 22,
   "metadata": {},
   "outputs": [
    {
     "output_type": "stream",
     "name": "stdout",
     "text": [
      "OBJECT TYPE: Schedule\nEFFECTIVE DATE: 04-AUG-2016\nEND DATE: 02-MAY-2022\nFREQUENCY: FrequencyTypes.SEMI_ANNUAL\nCALENDAR: CalendarTypes.WEEKEND\nBUSDAYRULE: BusDayAdjustTypes.FOLLOWING\nDATEGENRULE: DateGenRuleTypes.BACKWARD\nADJUST TERM DATE: True\nEND OF MONTH: False\n"
     ]
    }
   ],
   "source": [
    "print(schedule)"
   ]
  },
  {
   "cell_type": "code",
   "execution_count": 23,
   "metadata": {},
   "outputs": [],
   "source": [
    "freq_type = FrequencyTypes.SEMI_ANNUAL\n",
    "calendar_type = CalendarTypes.TARGET\n",
    "bus_day_adjust_type = BusDayAdjustTypes.FOLLOWING\n",
    "date_gen_rule_type = DateGenRuleTypes.BACKWARD\n",
    "schedule = Schedule(start_date, end_date, freq_type, calendar_type, bus_day_adjust_type, date_gen_rule_type)"
   ]
  },
  {
   "cell_type": "code",
   "execution_count": 24,
   "metadata": {},
   "outputs": [
    {
     "output_type": "stream",
     "name": "stdout",
     "text": [
      "[04-AUG-2016, 01-NOV-2016, 02-MAY-2017, 01-NOV-2017, 02-MAY-2018, 01-NOV-2018, 02-MAY-2019, 01-NOV-2019, 04-MAY-2020, 02-NOV-2020, 03-MAY-2021, 01-NOV-2021, 02-MAY-2022]\n"
     ]
    }
   ],
   "source": [
    "print(schedule.schedule_dates())"
   ]
  },
  {
   "cell_type": "code",
   "execution_count": 25,
   "metadata": {},
   "outputs": [
    {
     "output_type": "stream",
     "name": "stdout",
     "text": [
      "OBJECT TYPE: Schedule\nEFFECTIVE DATE: 04-AUG-2016\nEND DATE: 02-MAY-2022\nFREQUENCY: FrequencyTypes.SEMI_ANNUAL\nCALENDAR: CalendarTypes.TARGET\nBUSDAYRULE: BusDayAdjustTypes.FOLLOWING\nDATEGENRULE: DateGenRuleTypes.BACKWARD\nADJUST TERM DATE: True\nEND OF MONTH: False\n"
     ]
    }
   ],
   "source": [
    "print(schedule)"
   ]
  },
  {
   "cell_type": "code",
   "execution_count": 26,
   "metadata": {},
   "outputs": [
    {
     "output_type": "stream",
     "name": "stdout",
     "text": [
      "[04-AUG-2016, 01-NOV-2016, 02-MAY-2017, 01-NOV-2017, 02-MAY-2018, 01-NOV-2018, 02-MAY-2019, 01-NOV-2019, 04-MAY-2020, 02-NOV-2020, 03-MAY-2021, 01-NOV-2021, 02-MAY-2022]\n"
     ]
    }
   ],
   "source": [
    "print(schedule.schedule_dates())"
   ]
  },
  {
   "cell_type": "code",
   "execution_count": null,
   "metadata": {},
   "outputs": [],
   "source": []
  }
 ],
 "metadata": {
  "kernelspec": {
   "name": "python388jvsc74a57bd0b3ba2566441a7c06988d0923437866b63cedc61552a5af99d1f4fb67d367b25f",
   "display_name": "Python 3.8.8 64-bit ('base': conda)"
  },
  "language_info": {
   "codemirror_mode": {
    "name": "ipython",
    "version": 3
   },
   "file_extension": ".py",
   "mimetype": "text/x-python",
   "name": "python",
   "nbconvert_exporter": "python",
   "pygments_lexer": "ipython3",
   "version": "3.8.8"
  }
 },
 "nbformat": 4,
 "nbformat_minor": 2
}