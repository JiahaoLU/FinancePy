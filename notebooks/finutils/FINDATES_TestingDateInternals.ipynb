{
 "cells": [
  {
   "cell_type": "markdown",
   "metadata": {},
   "source": [
    "# TESTING DATE INTERNALS"
   ]
  },
  {
   "cell_type": "markdown",
   "metadata": {},
   "source": [
    "## Example of how to use FinancePy"
   ]
  },
  {
   "cell_type": "markdown",
   "metadata": {},
   "source": [
    "To get date functionality you import Date"
   ]
  },
  {
   "cell_type": "code",
   "execution_count": 1,
   "metadata": {},
   "outputs": [
    {
     "output_type": "stream",
     "name": "stdout",
     "text": [
      "####################################################################\n# FINANCEPY BETA Version 0.193 - This build:  09 Mar 2021 at 17:51 #\n#      This software is distributed FREE & WITHOUT ANY WARRANTY    #\n# For info and disclaimer - https://github.com/domokane/FinancePy  #\n#      Send any bug reports or comments to quant@financepy.com     #\n####################################################################\n\n"
     ]
    }
   ],
   "source": [
    "from financepy.utils import *"
   ]
  },
  {
   "cell_type": "markdown",
   "metadata": {},
   "source": [
    "### We can create a Date as follows"
   ]
  },
  {
   "cell_type": "code",
   "execution_count": 2,
   "metadata": {},
   "outputs": [],
   "source": [
    "dt = Date(1, 1, 2000)"
   ]
  },
  {
   "cell_type": "code",
   "execution_count": 3,
   "metadata": {},
   "outputs": [
    {
     "output_type": "stream",
     "name": "stdout",
     "text": [
      "02-JAN-2000 36527.0\n03-JAN-2000 36528.0\n04-JAN-2000 36529.0\n05-JAN-2000 36530.0\n06-JAN-2000 36531.0\n07-JAN-2000 36532.0\n08-JAN-2000 36533.0\n09-JAN-2000 36534.0\n10-JAN-2000 36535.0\n11-JAN-2000 36536.0\n12-JAN-2000 36537.0\n13-JAN-2000 36538.0\n14-JAN-2000 36539.0\n15-JAN-2000 36540.0\n16-JAN-2000 36541.0\n17-JAN-2000 36542.0\n18-JAN-2000 36543.0\n19-JAN-2000 36544.0\n20-JAN-2000 36545.0\n21-JAN-2000 36546.0\n22-JAN-2000 36547.0\n23-JAN-2000 36548.0\n24-JAN-2000 36549.0\n25-JAN-2000 36550.0\n26-JAN-2000 36551.0\n27-JAN-2000 36552.0\n28-JAN-2000 36553.0\n29-JAN-2000 36554.0\n30-JAN-2000 36555.0\n31-JAN-2000 36556.0\n01-FEB-2000 36557.0\n02-FEB-2000 36558.0\n03-FEB-2000 36559.0\n04-FEB-2000 36560.0\n05-FEB-2000 36561.0\n06-FEB-2000 36562.0\n07-FEB-2000 36563.0\n08-FEB-2000 36564.0\n09-FEB-2000 36565.0\n10-FEB-2000 36566.0\n11-FEB-2000 36567.0\n12-FEB-2000 36568.0\n13-FEB-2000 36569.0\n14-FEB-2000 36570.0\n15-FEB-2000 36571.0\n16-FEB-2000 36572.0\n17-FEB-2000 36573.0\n18-FEB-2000 36574.0\n19-FEB-2000 36575.0\n20-FEB-2000 36576.0\n21-FEB-2000 36577.0\n22-FEB-2000 36578.0\n23-FEB-2000 36579.0\n24-FEB-2000 36580.0\n25-FEB-2000 36581.0\n26-FEB-2000 36582.0\n27-FEB-2000 36583.0\n28-FEB-2000 36584.0\n29-FEB-2000 36585.0\n01-MAR-2000 36586.0\n02-MAR-2000 36587.0\n03-MAR-2000 36588.0\n04-MAR-2000 36589.0\n05-MAR-2000 36590.0\n06-MAR-2000 36591.0\n07-MAR-2000 36592.0\n08-MAR-2000 36593.0\n09-MAR-2000 36594.0\n10-MAR-2000 36595.0\n11-MAR-2000 36596.0\n12-MAR-2000 36597.0\n13-MAR-2000 36598.0\n14-MAR-2000 36599.0\n15-MAR-2000 36600.0\n16-MAR-2000 36601.0\n17-MAR-2000 36602.0\n18-MAR-2000 36603.0\n19-MAR-2000 36604.0\n20-MAR-2000 36605.0\n21-MAR-2000 36606.0\n22-MAR-2000 36607.0\n23-MAR-2000 36608.0\n24-MAR-2000 36609.0\n25-MAR-2000 36610.0\n26-MAR-2000 36611.0\n27-MAR-2000 36612.0\n28-MAR-2000 36613.0\n29-MAR-2000 36614.0\n30-MAR-2000 36615.0\n31-MAR-2000 36616.0\n01-APR-2000 36617.0\n02-APR-2000 36618.0\n03-APR-2000 36619.0\n04-APR-2000 36620.0\n05-APR-2000 36621.0\n06-APR-2000 36622.0\n07-APR-2000 36623.0\n08-APR-2000 36624.0\n09-APR-2000 36625.0\n10-APR-2000 36626.0\n"
     ]
    }
   ],
   "source": [
    "for i in range(0, 100):\n",
    "    dt = dt.add_days(1)\n",
    "    print(dt, dt._excelDate)"
   ]
  },
  {
   "cell_type": "markdown",
   "metadata": {},
   "source": [
    "Copyright (c) Dominic O'Kane 2020"
   ]
  },
  {
   "cell_type": "code",
   "execution_count": null,
   "metadata": {},
   "outputs": [],
   "source": []
  }
 ],
 "metadata": {
  "kernelspec": {
   "name": "python388jvsc74a57bd0b3ba2566441a7c06988d0923437866b63cedc61552a5af99d1f4fb67d367b25f",
   "display_name": "Python 3.8.8 64-bit ('base': conda)"
  },
  "language_info": {
   "codemirror_mode": {
    "name": "ipython",
    "version": 3
   },
   "file_extension": ".py",
   "mimetype": "text/x-python",
   "name": "python",
   "nbconvert_exporter": "python",
   "pygments_lexer": "ipython3",
   "version": "3.8.8"
  }
 },
 "nbformat": 4,
 "nbformat_minor": 2
}