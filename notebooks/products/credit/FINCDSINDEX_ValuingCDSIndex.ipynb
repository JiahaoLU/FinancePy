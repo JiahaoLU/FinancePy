{
 "cells": [
  {
   "cell_type": "markdown",
   "metadata": {},
   "source": [
    "# Creating and Valuing a CDS Index"
   ]
  },
  {
   "cell_type": "markdown",
   "metadata": {},
   "source": [
    "Example CDS Index Valuation"
   ]
  },
  {
   "cell_type": "code",
   "execution_count": 1,
   "metadata": {},
   "outputs": [],
   "source": [
    "import numpy as np\n",
    "import matplotlib.pyplot as plt"
   ]
  },
  {
   "cell_type": "code",
   "execution_count": 2,
   "metadata": {},
   "outputs": [
    {
     "name": "stdout",
     "output_type": "stream",
     "text": [
      "####################################################################\n",
      "# FINANCEPY BETA Version 0.185 - This build:  24 Oct 2020 at 20:12 #\n",
      "#      This software is distributed FREE & WITHOUT ANY WARRANTY    #\n",
      "# For info and disclaimer - https://github.com/domokane/FinancePy  #\n",
      "#      Send any bug reports or comments to quant@financepy.com     #\n",
      "####################################################################\n",
      "\n"
     ]
    }
   ],
   "source": [
    "from financepy.utils import *\n",
    "from financepy.products.rates import *\n",
    "from financepy.products.credit import *"
   ]
  },
  {
   "cell_type": "code",
   "execution_count": 14,
   "metadata": {},
   "outputs": [
    {
     "name": "stdout",
     "output_type": "stream",
     "text": [
      "TUE 07 FEB 2006\n"
     ]
    }
   ],
   "source": [
    "valuation_date = Date(7, 2, 2006)\n",
    "settlement_date = valuation_date.add_weekdays(0)\n",
    "print(settlement_date)"
   ]
  },
  {
   "cell_type": "markdown",
   "metadata": {},
   "source": [
    "## Build Ibor Curve"
   ]
  },
  {
   "cell_type": "markdown",
   "metadata": {},
   "source": [
    "Build the Ibor curve to value cash flows"
   ]
  },
  {
   "cell_type": "code",
   "execution_count": 15,
   "metadata": {},
   "outputs": [],
   "source": [
    "depos = []\n",
    "dcType = DayCountTypes.THIRTY_E_360_ISDA\n",
    "fixedFreq = FrequencyTypes.SEMI_ANNUAL\n",
    "swapType = SwapTypes.PAY\n",
    "swap1 = IborSwap(settlement_date,\"1Y\",swapType,0.0502,fixedFreq,dcType)\n",
    "swap2 = IborSwap(settlement_date,\"2Y\",swapType,0.0502,fixedFreq,dcType)\n",
    "swap3 = IborSwap(settlement_date,\"3Y\",swapType,0.0501,fixedFreq,dcType)\n",
    "swap4 = IborSwap(settlement_date,\"4Y\",swapType,0.0502,fixedFreq,dcType)\n",
    "swap5 = IborSwap(settlement_date,\"5Y\",swapType,0.0501,fixedFreq,dcType)\n",
    "swaps = [swap1,swap2,swap3,swap4,swap5]\n",
    "\n",
    "libor_curve = FinIborSingleCurve(valuation_date, depos, [], swaps)"
   ]
  },
  {
   "cell_type": "markdown",
   "metadata": {},
   "source": [
    "## Build Index Curve"
   ]
  },
  {
   "cell_type": "markdown",
   "metadata": {},
   "source": [
    "We treat an index as a CDS contract with a flat CDS curve at the CDS index spread for the same maturity"
   ]
  },
  {
   "cell_type": "code",
   "execution_count": 16,
   "metadata": {},
   "outputs": [],
   "source": [
    "step_in_date = valuation_date"
   ]
  },
  {
   "cell_type": "code",
   "execution_count": 17,
   "metadata": {},
   "outputs": [],
   "source": [
    "index_coupon = 0.0048375\n",
    "maturity_date = Date(20, 6, 2010)\n",
    "\n",
    "cdsMarketContracts = []\n",
    "cds = FinCDS(valuation_date, maturity_date, index_coupon)\n",
    "cdsMarketContracts.append(cds)\n",
    "\n",
    "recovery_rate = 0.40\n",
    "index_curve = FinCDSCurve(valuation_date, cdsMarketContracts,libor_curve,recovery_rate)"
   ]
  },
  {
   "cell_type": "markdown",
   "metadata": {},
   "source": [
    "## Create CDS Index and Perform Valuation"
   ]
  },
  {
   "cell_type": "markdown",
   "metadata": {},
   "source": [
    "The CDS Index is treated as a CDS with the coupon equal to the CDS Index coupon"
   ]
  },
  {
   "cell_type": "code",
   "execution_count": 18,
   "metadata": {},
   "outputs": [],
   "source": [
    "cdsRecovery = 0.40\n",
    "notional = 10.0 * ONE_MILLION\n",
    "long_protection = True\n",
    "index_coupon = 0.004 \n",
    "\n",
    "cdsIndexContract = FinCDS(step_in_date, maturity_date, index_coupon, notional, long_protection)"
   ]
  },
  {
   "cell_type": "code",
   "execution_count": 19,
   "metadata": {},
   "outputs": [
    {
     "name": "stdout",
     "output_type": "stream",
     "text": [
      "PAR SPREAD 48.37497289672881\n"
     ]
    }
   ],
   "source": [
    "spd = cdsIndexContract.par_spread(valuation_date, index_curve, cdsRecovery) * 10000\n",
    "print(\"PAR SPREAD\", spd)"
   ]
  },
  {
   "cell_type": "code",
   "execution_count": 20,
   "metadata": {},
   "outputs": [
    {
     "name": "stdout",
     "output_type": "stream",
     "text": [
      "FULL VALUE 27148.41172362311\n",
      "CLEAN VALUE 32592.856168067578\n"
     ]
    }
   ],
   "source": [
    "v = cdsIndexContract.value(valuation_date, index_curve, cdsRecovery)\n",
    "print(\"FULL VALUE\", v['full_pv'])\n",
    "print(\"CLEAN VALUE\", v['clean_pv'])"
   ]
  },
  {
   "cell_type": "code",
   "execution_count": 21,
   "metadata": {},
   "outputs": [
    {
     "name": "stdout",
     "output_type": "stream",
     "text": [
      "CLEAN PRICE 99.67407120570428\n"
     ]
    }
   ],
   "source": [
    "p = cdsIndexContract.clean_price(valuation_date, index_curve, cdsRecovery)\n",
    "print(\"CLEAN PRICE\", p)"
   ]
  },
  {
   "cell_type": "code",
   "execution_count": 22,
   "metadata": {},
   "outputs": [
    {
     "name": "stdout",
     "output_type": "stream",
     "text": [
      "ACCRUED DAYS 49\n",
      "ACCRUED COUPON -5444.444444444444\n"
     ]
    }
   ],
   "source": [
    "accrued_days = cdsIndexContract.accrued_days()\n",
    "print(\"ACCRUED DAYS\", accrued_days)\n",
    "\n",
    "accrued_interest = cdsIndexContract.accrued_interest()\n",
    "print(\"ACCRUED COUPON\", accrued_interest)"
   ]
  },
  {
   "cell_type": "code",
   "execution_count": 23,
   "metadata": {},
   "outputs": [
    {
     "name": "stdout",
     "output_type": "stream",
     "text": [
      "PROTECTION LEG PV 188260.7326852467\n"
     ]
    }
   ],
   "source": [
    "prot_pv = cdsIndexContract.protection_leg_pv(valuation_date, index_curve, cdsRecovery)\n",
    "print(\"PROTECTION LEG PV\", prot_pv)"
   ]
  },
  {
   "cell_type": "code",
   "execution_count": 24,
   "metadata": {},
   "outputs": [
    {
     "name": "stdout",
     "output_type": "stream",
     "text": [
      "PREMIUM LEG PV 161112.32096162357\n"
     ]
    }
   ],
   "source": [
    "premPV = cdsIndexContract.premium_leg_pv(valuation_date, index_curve, cdsRecovery)\n",
    "print(\"PREMIUM LEG PV\", premPV)"
   ]
  },
  {
   "cell_type": "code",
   "execution_count": 25,
   "metadata": {},
   "outputs": [
    {
     "name": "stdout",
     "output_type": "stream",
     "text": [
      "FULL  RPV01 4.027808024040589\n",
      "CLEAN RPV01 3.8916969129294783\n"
     ]
    }
   ],
   "source": [
    "rpv01 = cdsIndexContract.risky_pv01(valuation_date, index_curve)\n",
    "print(\"FULL  RPV01\", rpv01['full_rpv01'])\n",
    "print(\"CLEAN RPV01\", rpv01['clean_rpv01'])"
   ]
  },
  {
   "cell_type": "markdown",
   "metadata": {},
   "source": [
    "Copyright (c) 2020 Dominic O'Kane"
   ]
  }
 ],
 "metadata": {
  "kernelspec": {
   "display_name": "Python 3",
   "language": "python",
   "name": "python3"
  },
  "language_info": {
   "codemirror_mode": {
    "name": "ipython",
    "version": 3
   },
   "file_extension": ".py",
   "mimetype": "text/x-python",
   "name": "python",
   "nbconvert_exporter": "python",
   "pygments_lexer": "ipython3",
   "version": "3.7.6"
  }
 },
 "nbformat": 4,
 "nbformat_minor": 2
}
